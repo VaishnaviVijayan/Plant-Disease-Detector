{
 "cells": [
  {
   "cell_type": "markdown",
   "id": "840a7915",
   "metadata": {},
   "source": [
    "## Importing libraries"
   ]
  },
  {
   "cell_type": "code",
   "execution_count": 96,
   "id": "ca9be137",
   "metadata": {},
   "outputs": [],
   "source": [
    "import tensorflow as tf\n",
    "import matplotlib.pyplot as plt\n",
    "import pandas as pd\n",
    "import seaborn as sns\n",
    "import os \n",
    "os.environ['TF_USE_LEGACY_KERAS'] = 'True'"
   ]
  },
  {
   "cell_type": "markdown",
   "id": "ae2b666c",
   "metadata": {},
   "source": [
    "## Data Preprocessing"
   ]
  },
  {
   "cell_type": "markdown",
   "id": "e7649d9d",
   "metadata": {},
   "source": [
    "### Training image preprocessing"
   ]
  },
  {
   "cell_type": "code",
   "execution_count": 97,
   "id": "60dafaf0",
   "metadata": {},
   "outputs": [
    {
     "name": "stdout",
     "output_type": "stream",
     "text": [
      "Found 91885 files belonging to 54 classes.\n"
     ]
    }
   ],
   "source": [
    "training_set = tf.keras.utils.image_dataset_from_directory(\n",
    "'train',\n",
    "labels=\"inferred\",\n",
    "label_mode=\"categorical\",\n",
    "class_names=None,\n",
    "color_mode=\"rgb\",\n",
    "batch_size=32,\n",
    "image_size=(128, 128),\n",
    "shuffle=True,\n",
    "seed=None,\n",
    "validation_split=None,\n",
    "subset=None,\n",
    "interpolation=\"bilinear\",\n",
    "follow_links=False,\n",
    "crop_to_aspect_ratio=False,\n",
    ")"
   ]
  },
  {
   "cell_type": "markdown",
   "id": "a870faec",
   "metadata": {},
   "source": [
    "### validation image preprocessing"
   ]
  },
  {
   "cell_type": "code",
   "execution_count": 98,
   "id": "e2f5d3e0",
   "metadata": {
    "scrolled": true
   },
   "outputs": [
    {
     "name": "stdout",
     "output_type": "stream",
     "text": [
      "Found 91885 files belonging to 54 classes.\n"
     ]
    }
   ],
   "source": [
    "validation_set = tf.keras.utils.image_dataset_from_directory(\n",
    "'valid',\n",
    "labels=\"inferred\",\n",
    "label_mode=\"categorical\",\n",
    "class_names=None,\n",
    "color_mode=\"rgb\",\n",
    "batch_size=32,\n",
    "image_size=(128, 128),\n",
    "shuffle=True,\n",
    "seed=None,\n",
    "validation_split=None,\n",
    "subset=None,\n",
    "interpolation=\"bilinear\",\n",
    "follow_links=False,\n",
    "crop_to_aspect_ratio=False,\n",
    ")"
   ]
  },
  {
   "cell_type": "code",
   "execution_count": 99,
   "id": "7b3d016e",
   "metadata": {},
   "outputs": [
    {
     "data": {
      "text/plain": [
       "<_PrefetchDataset element_spec=(TensorSpec(shape=(None, 128, 128, 3), dtype=tf.float32, name=None), TensorSpec(shape=(None, 54), dtype=tf.float32, name=None))>"
      ]
     },
     "execution_count": 99,
     "metadata": {},
     "output_type": "execute_result"
    }
   ],
   "source": [
    "training_set"
   ]
  },
  {
   "cell_type": "code",
   "execution_count": 100,
   "id": "fff57a2e",
   "metadata": {},
   "outputs": [
    {
     "name": "stdout",
     "output_type": "stream",
     "text": [
      "tf.Tensor(\n",
      "[[[[110.75       97.75      104.75     ]\n",
      "   [136.        123.        130.       ]\n",
      "   [127.5       114.5       121.5      ]\n",
      "   ...\n",
      "   [160.25      150.25      158.25     ]\n",
      "   [165.25      155.25      163.25     ]\n",
      "   [164.75      154.75      162.75     ]]\n",
      "\n",
      "  [[117.75      104.75      111.75     ]\n",
      "   [134.25      121.25      128.25     ]\n",
      "   [125.        112.        119.       ]\n",
      "   ...\n",
      "   [165.75      155.75      163.75     ]\n",
      "   [165.        155.        163.       ]\n",
      "   [166.75      156.75      164.75     ]]\n",
      "\n",
      "  [[114.5       101.5       108.5      ]\n",
      "   [124.25      111.25      118.25     ]\n",
      "   [128.25      115.25      122.25     ]\n",
      "   ...\n",
      "   [167.5       157.5       165.5      ]\n",
      "   [159.75      149.75      157.75     ]\n",
      "   [164.25      154.25      162.25     ]]\n",
      "\n",
      "  ...\n",
      "\n",
      "  [[107.75       95.75      105.75     ]\n",
      "   [103.         91.        101.       ]\n",
      "   [114.        102.        112.       ]\n",
      "   ...\n",
      "   [142.75      134.75      145.75     ]\n",
      "   [143.75      135.75      146.75     ]\n",
      "   [143.75      135.75      146.75     ]]\n",
      "\n",
      "  [[104.         92.        102.       ]\n",
      "   [102.75       90.75      100.75     ]\n",
      "   [113.        101.        111.       ]\n",
      "   ...\n",
      "   [141.5       133.5       144.5      ]\n",
      "   [145.5       137.5       148.5      ]\n",
      "   [146.5       138.5       149.5      ]]\n",
      "\n",
      "  [[106.25       94.25      104.25     ]\n",
      "   [111.         99.        109.       ]\n",
      "   [113.25      101.25      111.25     ]\n",
      "   ...\n",
      "   [142.        134.        145.       ]\n",
      "   [137.        129.        140.       ]\n",
      "   [139.        131.        142.       ]]]\n",
      "\n",
      "\n",
      " [[[182.5       168.5       165.5      ]\n",
      "   [187.        173.        170.       ]\n",
      "   [187.75      173.75      170.75     ]\n",
      "   ...\n",
      "   [182.25      168.25      165.25     ]\n",
      "   [176.25      162.25      159.25     ]\n",
      "   [190.        176.        173.       ]]\n",
      "\n",
      "  [[176.75      162.75      159.75     ]\n",
      "   [185.5       171.5       168.5      ]\n",
      "   [178.25      164.25      161.25     ]\n",
      "   ...\n",
      "   [166.5       152.5       149.5      ]\n",
      "   [192.        178.        175.       ]\n",
      "   [176.5       162.5       159.5      ]]\n",
      "\n",
      "  [[180.        166.        163.       ]\n",
      "   [178.5       164.5       161.5      ]\n",
      "   [188.75      174.75      171.75     ]\n",
      "   ...\n",
      "   [177.        163.        160.       ]\n",
      "   [194.5       180.5       177.5      ]\n",
      "   [185.25      171.25      168.25     ]]\n",
      "\n",
      "  ...\n",
      "\n",
      "  [[163.5       151.5       151.5      ]\n",
      "   [162.        150.        150.       ]\n",
      "   [166.75      154.75      154.75     ]\n",
      "   ...\n",
      "   [164.        152.        152.       ]\n",
      "   [165.75      153.75      153.75     ]\n",
      "   [170.25      158.25      158.25     ]]\n",
      "\n",
      "  [[162.        150.        150.       ]\n",
      "   [159.25      147.25      147.25     ]\n",
      "   [159.5       147.5       147.5      ]\n",
      "   ...\n",
      "   [173.25      161.25      161.25     ]\n",
      "   [184.75      172.75      172.75     ]\n",
      "   [174.75      162.75      162.75     ]]\n",
      "\n",
      "  [[170.25      158.25      158.25     ]\n",
      "   [165.75      153.75      153.75     ]\n",
      "   [170.        158.        158.       ]\n",
      "   ...\n",
      "   [163.25      151.25      151.25     ]\n",
      "   [163.25      151.25      151.25     ]\n",
      "   [166.25      154.25      154.25     ]]]\n",
      "\n",
      "\n",
      " [[[153.25      154.25      174.25     ]\n",
      "   [148.        149.        169.       ]\n",
      "   [149.25      150.25      170.25     ]\n",
      "   ...\n",
      "   [110.25      102.25      123.25     ]\n",
      "   [ 97.25       89.25      110.25     ]\n",
      "   [116.5       108.5       129.5      ]]\n",
      "\n",
      "  [[153.        154.        174.       ]\n",
      "   [148.5       149.5       169.5      ]\n",
      "   [149.25      150.25      170.25     ]\n",
      "   ...\n",
      "   [110.        102.        123.       ]\n",
      "   [ 99.75       91.75      112.75     ]\n",
      "   [110.5       102.5       123.5      ]]\n",
      "\n",
      "  [[156.75      157.75      177.75     ]\n",
      "   [157.25      158.25      178.25     ]\n",
      "   [154.5       155.5       175.5      ]\n",
      "   ...\n",
      "   [101.25       93.25      114.25     ]\n",
      "   [119.25      111.25      132.25     ]\n",
      "   [115.75      107.75      128.75     ]]\n",
      "\n",
      "  ...\n",
      "\n",
      "  [[197.25      193.25      207.25     ]\n",
      "   [199.25      195.25      209.25     ]\n",
      "   [193.75      189.75      203.75     ]\n",
      "   ...\n",
      "   [106.25      101.25      121.25     ]\n",
      "   [104.75       99.75      119.75     ]\n",
      "   [119.5       114.5       134.5      ]]\n",
      "\n",
      "  [[198.        194.        208.       ]\n",
      "   [201.        197.        211.       ]\n",
      "   [196.        192.        206.       ]\n",
      "   ...\n",
      "   [114.5       109.5       129.5      ]\n",
      "   [ 89.         84.        104.       ]\n",
      "   [107.75      102.75      122.75     ]]\n",
      "\n",
      "  [[193.75      189.75      203.75     ]\n",
      "   [195.25      191.25      205.25     ]\n",
      "   [200.25      196.25      210.25     ]\n",
      "   ...\n",
      "   [113.75      108.75      128.75     ]\n",
      "   [120.25      115.25      135.25     ]\n",
      "   [139.75      134.75      154.75     ]]]\n",
      "\n",
      "\n",
      " ...\n",
      "\n",
      "\n",
      " [[[ 32.152344   32.152344   20.152344 ]\n",
      "   [ 33.712402   33.712402   21.712402 ]\n",
      "   [ 21.217407   21.217407   11.217407 ]\n",
      "   ...\n",
      "   [ 37.0271     62.406006   24.284912 ]\n",
      "   [ 54.889038   98.88904    13.889038 ]\n",
      "   [ 41.148193   82.14819     4.1481934]]\n",
      "\n",
      "  [[  2.9937744   1.9937744   0.       ]\n",
      "   [ 18.707031   17.707031   12.707031 ]\n",
      "   [ 28.140503   27.140503   22.609375 ]\n",
      "   ...\n",
      "   [ 49.859863   90.0708     18.90686  ]\n",
      "   [ 57.092163   93.23364    24.092163 ]\n",
      "   [ 17.0625     55.837524    4.5250244]]\n",
      "\n",
      "  [[ 83.48816    81.14441    71.12366  ]\n",
      "   [ 11.945557    8.945557    2.8591309]\n",
      "   [ 36.467773   33.467773   26.467773 ]\n",
      "   ...\n",
      "   [ 62.256836   95.256836   16.256836 ]\n",
      "   [ 44.850464   72.850464   14.322998 ]\n",
      "   [ 50.602905   82.8645     19.545532 ]]\n",
      "\n",
      "  ...\n",
      "\n",
      "  [[117.08911   108.77661    65.503174 ]\n",
      "   [ 59.25769    53.441406   20.70691  ]\n",
      "   [ 46.946045   44.86853    11.561035 ]\n",
      "   ...\n",
      "   [ 34.420654   65.52612    23.631592 ]\n",
      "   [ 27.601929   54.60193    19.601929 ]\n",
      "   [ 15.868408   48.83716    16.180908 ]]\n",
      "\n",
      "  [[ 73.6626     97.88135    25.222778 ]\n",
      "   [ 54.046753   64.2655     17.892456 ]\n",
      "   [ 79.465454   80.55115    40.422607 ]\n",
      "   ...\n",
      "   [ 21.125244   51.125244   15.125244 ]\n",
      "   [ 28.551636   59.551636   25.551636 ]\n",
      "   [ 27.860107   58.860107   24.860107 ]]\n",
      "\n",
      "  [[226.2229    244.86768   189.51404  ]\n",
      "   [205.00049   224.87231   164.8739   ]\n",
      "   [ 69.371216   80.51953    22.470093 ]\n",
      "   ...\n",
      "   [ 20.58081    47.58081    12.791748 ]\n",
      "   [ 30.297607   60.297607   26.297607 ]\n",
      "   [ 35.577637   65.57764    31.577637 ]]]\n",
      "\n",
      "\n",
      " [[[114.75      112.75      117.75     ]\n",
      "   [120.25      118.25      123.25     ]\n",
      "   [125.25      123.25      128.25     ]\n",
      "   ...\n",
      "   [121.75      119.75      122.75     ]\n",
      "   [121.5       119.5       122.5      ]\n",
      "   [126.        124.        127.       ]]\n",
      "\n",
      "  [[112.5       110.5       115.5      ]\n",
      "   [123.5       121.5       126.5      ]\n",
      "   [118.5       116.5       121.5      ]\n",
      "   ...\n",
      "   [119.        117.        120.       ]\n",
      "   [126.75      124.75      127.75     ]\n",
      "   [120.5       118.5       121.5      ]]\n",
      "\n",
      "  [[124.25      122.25      127.25     ]\n",
      "   [120.75      118.75      123.75     ]\n",
      "   [113.75      111.75      116.75     ]\n",
      "   ...\n",
      "   [121.25      119.25      122.25     ]\n",
      "   [130.75      128.75      131.75     ]\n",
      "   [133.25      131.25      134.25     ]]\n",
      "\n",
      "  ...\n",
      "\n",
      "  [[140.25      139.25      145.25     ]\n",
      "   [138.75      137.75      143.75     ]\n",
      "   [135.        134.        140.       ]\n",
      "   ...\n",
      "   [143.75      147.75      150.75     ]\n",
      "   [147.        151.        154.       ]\n",
      "   [149.25      153.25      156.25     ]]\n",
      "\n",
      "  [[134.        133.        139.       ]\n",
      "   [139.25      138.25      144.25     ]\n",
      "   [139.75      138.75      144.75     ]\n",
      "   ...\n",
      "   [152.        156.        159.       ]\n",
      "   [154.        158.        161.       ]\n",
      "   [149.        153.        156.       ]]\n",
      "\n",
      "  [[135.25      134.25      140.25     ]\n",
      "   [138.75      137.75      143.75     ]\n",
      "   [138.75      137.75      143.75     ]\n",
      "   ...\n",
      "   [152.        156.        159.       ]\n",
      "   [151.75      155.75      158.75     ]\n",
      "   [151.25      155.25      158.25     ]]]\n",
      "\n",
      "\n",
      " [[[  0.          0.          0.       ]\n",
      "   [  0.          0.          0.       ]\n",
      "   [  0.          0.          0.       ]\n",
      "   ...\n",
      "   [  0.          0.          0.       ]\n",
      "   [  0.          0.          0.       ]\n",
      "   [  0.          0.          0.       ]]\n",
      "\n",
      "  [[  0.          0.          0.       ]\n",
      "   [  0.          0.          0.       ]\n",
      "   [  0.          0.          0.       ]\n",
      "   ...\n",
      "   [  0.          0.          0.       ]\n",
      "   [  0.          0.          0.       ]\n",
      "   [  0.          0.          0.       ]]\n",
      "\n",
      "  [[  0.          0.          0.       ]\n",
      "   [  0.          0.          0.       ]\n",
      "   [  0.          0.          0.       ]\n",
      "   ...\n",
      "   [  0.          0.          0.       ]\n",
      "   [  0.          0.          0.       ]\n",
      "   [  0.          0.          0.       ]]\n",
      "\n",
      "  ...\n",
      "\n",
      "  [[  0.          0.          0.       ]\n",
      "   [  0.          0.          0.       ]\n",
      "   [  0.          0.          0.       ]\n",
      "   ...\n",
      "   [  0.          0.          0.       ]\n",
      "   [  0.          0.          0.       ]\n",
      "   [  0.          0.          0.       ]]\n",
      "\n",
      "  [[  0.          0.          0.       ]\n",
      "   [  0.          0.          0.       ]\n",
      "   [  0.          0.          0.       ]\n",
      "   ...\n",
      "   [  0.          0.          0.       ]\n",
      "   [  0.          0.          0.       ]\n",
      "   [  0.          0.          0.       ]]\n",
      "\n",
      "  [[  0.          0.          0.       ]\n",
      "   [  0.          0.          0.       ]\n",
      "   [  0.          0.          0.       ]\n",
      "   ...\n",
      "   [  0.          0.          0.       ]\n",
      "   [  0.          0.          0.       ]\n",
      "   [  0.          0.          0.       ]]]], shape=(32, 128, 128, 3), dtype=float32) (32, 128, 128, 3)\n",
      "tf.Tensor(\n",
      "[[0. 0. 0. ... 0. 0. 0.]\n",
      " [0. 0. 0. ... 0. 0. 0.]\n",
      " [0. 0. 0. ... 0. 0. 0.]\n",
      " ...\n",
      " [0. 0. 0. ... 0. 1. 0.]\n",
      " [0. 0. 0. ... 0. 0. 0.]\n",
      " [0. 0. 0. ... 0. 0. 0.]], shape=(32, 54), dtype=float32) (32, 54)\n"
     ]
    }
   ],
   "source": [
    "for x,y in training_set:\n",
    "    print(x,x.shape)\n",
    "    print(y,y.shape)\n",
    "    break"
   ]
  },
  {
   "cell_type": "markdown",
   "id": "c0dccbc5",
   "metadata": {},
   "source": [
    "## Building Model"
   ]
  },
  {
   "cell_type": "code",
   "execution_count": 101,
   "id": "2f06ca7d",
   "metadata": {},
   "outputs": [],
   "source": [
    "from tensorflow.keras.layers import Dense,Conv2D,MaxPooling2D,Flatten,Dropout\n",
    "from tensorflow.keras.models import Sequential"
   ]
  },
  {
   "cell_type": "code",
   "execution_count": 102,
   "id": "58fc1bec",
   "metadata": {},
   "outputs": [],
   "source": [
    "model = Sequential()"
   ]
  },
  {
   "cell_type": "markdown",
   "id": "2a3e7bdf",
   "metadata": {},
   "source": [
    "### Building convolution layer"
   ]
  },
  {
   "cell_type": "code",
   "execution_count": 103,
   "id": "b2f24c51",
   "metadata": {},
   "outputs": [],
   "source": [
    "model.add(Conv2D(filters=32,kernel_size=3,padding='same',activation='relu',input_shape=[128,128,3]))\n",
    "model.add(Conv2D(filters=32,kernel_size=3,activation='relu'))\n",
    "model.add(MaxPooling2D(pool_size=2,strides=2))"
   ]
  },
  {
   "cell_type": "code",
   "execution_count": 104,
   "id": "306170b3",
   "metadata": {},
   "outputs": [],
   "source": [
    "#model.add(Conv2D(filters=64,kernel_size=3,padding='same',activation='relu'))model.add(Conv2D(filters=64,kernel_size=3,activation='relu'))model.add(MaxPool2D(pool_size=2,strides=2))\n",
    "model.add(Conv2D(32, (3, 3), padding='SAME', input_shape=(64, 64, 3), activation='relu'))\n",
    "model.add(MaxPooling2D(pool_size=(2, 2)))"
   ]
  },
  {
   "cell_type": "code",
   "execution_count": 105,
   "id": "19d4f3d6",
   "metadata": {},
   "outputs": [],
   "source": [
    "#model.add(Conv2D(filters=128,kernel_size=3,padding='same',activation='relu'))model.add(Conv2D(filters=128,kernel_size=3,activation='relu'))model.add(MaxPool2D(pool_size=2,strides=2))\n",
    "model.add(Conv2D(64, (3, 3), padding='SAME', activation='relu'))\n",
    "model.add(MaxPooling2D(pool_size=(2, 2)))"
   ]
  },
  {
   "cell_type": "code",
   "execution_count": 106,
   "id": "dc7446c9",
   "metadata": {},
   "outputs": [],
   "source": [
    "#model.add(Conv2D(filters=256,kernel_size=3,padding='same',activation='relu'))model.add(Conv2D(filters=256,kernel_size=3,activation='relu'))model.add(MaxPool2D(pool_size=2,strides=2))\n",
    "model.add(Conv2D(128, (3, 3), padding='SAME', activation='relu'))\n",
    "model.add(MaxPooling2D(pool_size=(2, 2)))"
   ]
  },
  {
   "cell_type": "code",
   "execution_count": 107,
   "id": "b82b35d1",
   "metadata": {
    "scrolled": true
   },
   "outputs": [],
   "source": [
    "#model.add(Conv2D(filters=512, kernel_size=2, activation='relu'))model.add(Conv2D(filters=512, kernel_size=2, activation='relu'))model.add(MaxPool2D(pool_size=2, strides=2))\n",
    "model.add(Conv2D(256, (3, 3), padding='SAME', activation='relu'))\n",
    "model.add(MaxPooling2D(pool_size=(2, 2)))"
   ]
  },
  {
   "cell_type": "code",
   "execution_count": 108,
   "id": "0b96000c-041f-4d7e-98c4-5ad7523a7685",
   "metadata": {},
   "outputs": [],
   "source": [
    "#model.add(Conv2D(filters=1024, kernel_size=2, activation='relu'))model.add(Conv2D(filters=1024, kernel_size=2, activation='relu'))model.add(MaxPool2D(pool_size=2, strides=2))\n",
    "model.add(Conv2D(512, (3, 3), padding='SAME', activation='relu'))\n",
    "model.add(MaxPooling2D(pool_size=(2, 2)))"
   ]
  },
  {
   "cell_type": "code",
   "execution_count": 109,
   "id": "9aa6e2d9",
   "metadata": {},
   "outputs": [],
   "source": [
    "model.add(Conv2D(1024, (3, 3), padding='SAME', activation='relu'))"
   ]
  },
  {
   "cell_type": "code",
   "execution_count": 110,
   "id": "005cb08d",
   "metadata": {},
   "outputs": [],
   "source": [
    "model.add(Dropout(0.25)) # to avoid Overfitting"
   ]
  },
  {
   "cell_type": "code",
   "execution_count": 111,
   "id": "4e840607",
   "metadata": {},
   "outputs": [],
   "source": [
    "model.add(Flatten())"
   ]
  },
  {
   "cell_type": "code",
   "execution_count": 112,
   "id": "bd388bf6",
   "metadata": {},
   "outputs": [],
   "source": [
    "model.add(Dense(units=2500,activation='relu'))"
   ]
  },
  {
   "cell_type": "code",
   "execution_count": 113,
   "id": "6e27a555",
   "metadata": {},
   "outputs": [],
   "source": [
    "model.add(Dropout(0.4))"
   ]
  },
  {
   "cell_type": "code",
   "execution_count": 114,
   "id": "2ebae9ed",
   "metadata": {},
   "outputs": [],
   "source": [
    "# Output layer\n",
    "model.add(Dense(units=54,activation='softmax'))"
   ]
  },
  {
   "cell_type": "markdown",
   "id": "46baf52f",
   "metadata": {},
   "source": [
    "### Compiling Model"
   ]
  },
  {
   "cell_type": "code",
   "execution_count": 115,
   "id": "3438bcf0",
   "metadata": {},
   "outputs": [],
   "source": [
    "model.compile(optimizer=tf.keras.optimizers.Adam(learning_rate=0.0001),loss='categorical_crossentropy',metrics=['accuracy'])"
   ]
  },
  {
   "cell_type": "code",
   "execution_count": 116,
   "id": "a1a22e6e",
   "metadata": {},
   "outputs": [
    {
     "data": {
      "text/html": [
       "<pre style=\"white-space:pre;overflow-x:auto;line-height:normal;font-family:Menlo,'DejaVu Sans Mono',consolas,'Courier New',monospace\"><span style=\"font-weight: bold\">Model: \"sequential_5\"</span>\n",
       "</pre>\n"
      ],
      "text/plain": [
       "\u001b[1mModel: \"sequential_5\"\u001b[0m\n"
      ]
     },
     "metadata": {},
     "output_type": "display_data"
    },
    {
     "data": {
      "text/html": [
       "<pre style=\"white-space:pre;overflow-x:auto;line-height:normal;font-family:Menlo,'DejaVu Sans Mono',consolas,'Courier New',monospace\">┏━━━━━━━━━━━━━━━━━━━━━━━━━━━━━━━━━┳━━━━━━━━━━━━━━━━━━━━━━━━┳━━━━━━━━━━━━━━━┓\n",
       "┃<span style=\"font-weight: bold\"> Layer (type)                    </span>┃<span style=\"font-weight: bold\"> Output Shape           </span>┃<span style=\"font-weight: bold\">       Param # </span>┃\n",
       "┡━━━━━━━━━━━━━━━━━━━━━━━━━━━━━━━━━╇━━━━━━━━━━━━━━━━━━━━━━━━╇━━━━━━━━━━━━━━━┩\n",
       "│ conv2d_43 (<span style=\"color: #0087ff; text-decoration-color: #0087ff\">Conv2D</span>)              │ (<span style=\"color: #00d7ff; text-decoration-color: #00d7ff\">None</span>, <span style=\"color: #00af00; text-decoration-color: #00af00\">128</span>, <span style=\"color: #00af00; text-decoration-color: #00af00\">128</span>, <span style=\"color: #00af00; text-decoration-color: #00af00\">32</span>)   │           <span style=\"color: #00af00; text-decoration-color: #00af00\">896</span> │\n",
       "├─────────────────────────────────┼────────────────────────┼───────────────┤\n",
       "│ conv2d_44 (<span style=\"color: #0087ff; text-decoration-color: #0087ff\">Conv2D</span>)              │ (<span style=\"color: #00d7ff; text-decoration-color: #00d7ff\">None</span>, <span style=\"color: #00af00; text-decoration-color: #00af00\">126</span>, <span style=\"color: #00af00; text-decoration-color: #00af00\">126</span>, <span style=\"color: #00af00; text-decoration-color: #00af00\">32</span>)   │         <span style=\"color: #00af00; text-decoration-color: #00af00\">9,248</span> │\n",
       "├─────────────────────────────────┼────────────────────────┼───────────────┤\n",
       "│ max_pooling2d_28 (<span style=\"color: #0087ff; text-decoration-color: #0087ff\">MaxPooling2D</span>) │ (<span style=\"color: #00d7ff; text-decoration-color: #00d7ff\">None</span>, <span style=\"color: #00af00; text-decoration-color: #00af00\">63</span>, <span style=\"color: #00af00; text-decoration-color: #00af00\">63</span>, <span style=\"color: #00af00; text-decoration-color: #00af00\">32</span>)     │             <span style=\"color: #00af00; text-decoration-color: #00af00\">0</span> │\n",
       "├─────────────────────────────────┼────────────────────────┼───────────────┤\n",
       "│ conv2d_45 (<span style=\"color: #0087ff; text-decoration-color: #0087ff\">Conv2D</span>)              │ (<span style=\"color: #00d7ff; text-decoration-color: #00d7ff\">None</span>, <span style=\"color: #00af00; text-decoration-color: #00af00\">63</span>, <span style=\"color: #00af00; text-decoration-color: #00af00\">63</span>, <span style=\"color: #00af00; text-decoration-color: #00af00\">32</span>)     │         <span style=\"color: #00af00; text-decoration-color: #00af00\">9,248</span> │\n",
       "├─────────────────────────────────┼────────────────────────┼───────────────┤\n",
       "│ max_pooling2d_29 (<span style=\"color: #0087ff; text-decoration-color: #0087ff\">MaxPooling2D</span>) │ (<span style=\"color: #00d7ff; text-decoration-color: #00d7ff\">None</span>, <span style=\"color: #00af00; text-decoration-color: #00af00\">31</span>, <span style=\"color: #00af00; text-decoration-color: #00af00\">31</span>, <span style=\"color: #00af00; text-decoration-color: #00af00\">32</span>)     │             <span style=\"color: #00af00; text-decoration-color: #00af00\">0</span> │\n",
       "├─────────────────────────────────┼────────────────────────┼───────────────┤\n",
       "│ conv2d_46 (<span style=\"color: #0087ff; text-decoration-color: #0087ff\">Conv2D</span>)              │ (<span style=\"color: #00d7ff; text-decoration-color: #00d7ff\">None</span>, <span style=\"color: #00af00; text-decoration-color: #00af00\">31</span>, <span style=\"color: #00af00; text-decoration-color: #00af00\">31</span>, <span style=\"color: #00af00; text-decoration-color: #00af00\">64</span>)     │        <span style=\"color: #00af00; text-decoration-color: #00af00\">18,496</span> │\n",
       "├─────────────────────────────────┼────────────────────────┼───────────────┤\n",
       "│ max_pooling2d_30 (<span style=\"color: #0087ff; text-decoration-color: #0087ff\">MaxPooling2D</span>) │ (<span style=\"color: #00d7ff; text-decoration-color: #00d7ff\">None</span>, <span style=\"color: #00af00; text-decoration-color: #00af00\">15</span>, <span style=\"color: #00af00; text-decoration-color: #00af00\">15</span>, <span style=\"color: #00af00; text-decoration-color: #00af00\">64</span>)     │             <span style=\"color: #00af00; text-decoration-color: #00af00\">0</span> │\n",
       "├─────────────────────────────────┼────────────────────────┼───────────────┤\n",
       "│ conv2d_47 (<span style=\"color: #0087ff; text-decoration-color: #0087ff\">Conv2D</span>)              │ (<span style=\"color: #00d7ff; text-decoration-color: #00d7ff\">None</span>, <span style=\"color: #00af00; text-decoration-color: #00af00\">15</span>, <span style=\"color: #00af00; text-decoration-color: #00af00\">15</span>, <span style=\"color: #00af00; text-decoration-color: #00af00\">128</span>)    │        <span style=\"color: #00af00; text-decoration-color: #00af00\">73,856</span> │\n",
       "├─────────────────────────────────┼────────────────────────┼───────────────┤\n",
       "│ max_pooling2d_31 (<span style=\"color: #0087ff; text-decoration-color: #0087ff\">MaxPooling2D</span>) │ (<span style=\"color: #00d7ff; text-decoration-color: #00d7ff\">None</span>, <span style=\"color: #00af00; text-decoration-color: #00af00\">7</span>, <span style=\"color: #00af00; text-decoration-color: #00af00\">7</span>, <span style=\"color: #00af00; text-decoration-color: #00af00\">128</span>)      │             <span style=\"color: #00af00; text-decoration-color: #00af00\">0</span> │\n",
       "├─────────────────────────────────┼────────────────────────┼───────────────┤\n",
       "│ conv2d_48 (<span style=\"color: #0087ff; text-decoration-color: #0087ff\">Conv2D</span>)              │ (<span style=\"color: #00d7ff; text-decoration-color: #00d7ff\">None</span>, <span style=\"color: #00af00; text-decoration-color: #00af00\">7</span>, <span style=\"color: #00af00; text-decoration-color: #00af00\">7</span>, <span style=\"color: #00af00; text-decoration-color: #00af00\">256</span>)      │       <span style=\"color: #00af00; text-decoration-color: #00af00\">295,168</span> │\n",
       "├─────────────────────────────────┼────────────────────────┼───────────────┤\n",
       "│ max_pooling2d_32 (<span style=\"color: #0087ff; text-decoration-color: #0087ff\">MaxPooling2D</span>) │ (<span style=\"color: #00d7ff; text-decoration-color: #00d7ff\">None</span>, <span style=\"color: #00af00; text-decoration-color: #00af00\">3</span>, <span style=\"color: #00af00; text-decoration-color: #00af00\">3</span>, <span style=\"color: #00af00; text-decoration-color: #00af00\">256</span>)      │             <span style=\"color: #00af00; text-decoration-color: #00af00\">0</span> │\n",
       "├─────────────────────────────────┼────────────────────────┼───────────────┤\n",
       "│ conv2d_49 (<span style=\"color: #0087ff; text-decoration-color: #0087ff\">Conv2D</span>)              │ (<span style=\"color: #00d7ff; text-decoration-color: #00d7ff\">None</span>, <span style=\"color: #00af00; text-decoration-color: #00af00\">3</span>, <span style=\"color: #00af00; text-decoration-color: #00af00\">3</span>, <span style=\"color: #00af00; text-decoration-color: #00af00\">512</span>)      │     <span style=\"color: #00af00; text-decoration-color: #00af00\">1,180,160</span> │\n",
       "├─────────────────────────────────┼────────────────────────┼───────────────┤\n",
       "│ max_pooling2d_33 (<span style=\"color: #0087ff; text-decoration-color: #0087ff\">MaxPooling2D</span>) │ (<span style=\"color: #00d7ff; text-decoration-color: #00d7ff\">None</span>, <span style=\"color: #00af00; text-decoration-color: #00af00\">1</span>, <span style=\"color: #00af00; text-decoration-color: #00af00\">1</span>, <span style=\"color: #00af00; text-decoration-color: #00af00\">512</span>)      │             <span style=\"color: #00af00; text-decoration-color: #00af00\">0</span> │\n",
       "├─────────────────────────────────┼────────────────────────┼───────────────┤\n",
       "│ conv2d_50 (<span style=\"color: #0087ff; text-decoration-color: #0087ff\">Conv2D</span>)              │ (<span style=\"color: #00d7ff; text-decoration-color: #00d7ff\">None</span>, <span style=\"color: #00af00; text-decoration-color: #00af00\">1</span>, <span style=\"color: #00af00; text-decoration-color: #00af00\">1</span>, <span style=\"color: #00af00; text-decoration-color: #00af00\">1024</span>)     │     <span style=\"color: #00af00; text-decoration-color: #00af00\">4,719,616</span> │\n",
       "├─────────────────────────────────┼────────────────────────┼───────────────┤\n",
       "│ dropout_8 (<span style=\"color: #0087ff; text-decoration-color: #0087ff\">Dropout</span>)             │ (<span style=\"color: #00d7ff; text-decoration-color: #00d7ff\">None</span>, <span style=\"color: #00af00; text-decoration-color: #00af00\">1</span>, <span style=\"color: #00af00; text-decoration-color: #00af00\">1</span>, <span style=\"color: #00af00; text-decoration-color: #00af00\">1024</span>)     │             <span style=\"color: #00af00; text-decoration-color: #00af00\">0</span> │\n",
       "├─────────────────────────────────┼────────────────────────┼───────────────┤\n",
       "│ flatten_4 (<span style=\"color: #0087ff; text-decoration-color: #0087ff\">Flatten</span>)             │ (<span style=\"color: #00d7ff; text-decoration-color: #00d7ff\">None</span>, <span style=\"color: #00af00; text-decoration-color: #00af00\">1024</span>)           │             <span style=\"color: #00af00; text-decoration-color: #00af00\">0</span> │\n",
       "├─────────────────────────────────┼────────────────────────┼───────────────┤\n",
       "│ dense_8 (<span style=\"color: #0087ff; text-decoration-color: #0087ff\">Dense</span>)                 │ (<span style=\"color: #00d7ff; text-decoration-color: #00d7ff\">None</span>, <span style=\"color: #00af00; text-decoration-color: #00af00\">2500</span>)           │     <span style=\"color: #00af00; text-decoration-color: #00af00\">2,562,500</span> │\n",
       "├─────────────────────────────────┼────────────────────────┼───────────────┤\n",
       "│ dropout_9 (<span style=\"color: #0087ff; text-decoration-color: #0087ff\">Dropout</span>)             │ (<span style=\"color: #00d7ff; text-decoration-color: #00d7ff\">None</span>, <span style=\"color: #00af00; text-decoration-color: #00af00\">2500</span>)           │             <span style=\"color: #00af00; text-decoration-color: #00af00\">0</span> │\n",
       "├─────────────────────────────────┼────────────────────────┼───────────────┤\n",
       "│ dense_9 (<span style=\"color: #0087ff; text-decoration-color: #0087ff\">Dense</span>)                 │ (<span style=\"color: #00d7ff; text-decoration-color: #00d7ff\">None</span>, <span style=\"color: #00af00; text-decoration-color: #00af00\">54</span>)             │       <span style=\"color: #00af00; text-decoration-color: #00af00\">135,054</span> │\n",
       "└─────────────────────────────────┴────────────────────────┴───────────────┘\n",
       "</pre>\n"
      ],
      "text/plain": [
       "┏━━━━━━━━━━━━━━━━━━━━━━━━━━━━━━━━━┳━━━━━━━━━━━━━━━━━━━━━━━━┳━━━━━━━━━━━━━━━┓\n",
       "┃\u001b[1m \u001b[0m\u001b[1mLayer (type)                   \u001b[0m\u001b[1m \u001b[0m┃\u001b[1m \u001b[0m\u001b[1mOutput Shape          \u001b[0m\u001b[1m \u001b[0m┃\u001b[1m \u001b[0m\u001b[1m      Param #\u001b[0m\u001b[1m \u001b[0m┃\n",
       "┡━━━━━━━━━━━━━━━━━━━━━━━━━━━━━━━━━╇━━━━━━━━━━━━━━━━━━━━━━━━╇━━━━━━━━━━━━━━━┩\n",
       "│ conv2d_43 (\u001b[38;5;33mConv2D\u001b[0m)              │ (\u001b[38;5;45mNone\u001b[0m, \u001b[38;5;34m128\u001b[0m, \u001b[38;5;34m128\u001b[0m, \u001b[38;5;34m32\u001b[0m)   │           \u001b[38;5;34m896\u001b[0m │\n",
       "├─────────────────────────────────┼────────────────────────┼───────────────┤\n",
       "│ conv2d_44 (\u001b[38;5;33mConv2D\u001b[0m)              │ (\u001b[38;5;45mNone\u001b[0m, \u001b[38;5;34m126\u001b[0m, \u001b[38;5;34m126\u001b[0m, \u001b[38;5;34m32\u001b[0m)   │         \u001b[38;5;34m9,248\u001b[0m │\n",
       "├─────────────────────────────────┼────────────────────────┼───────────────┤\n",
       "│ max_pooling2d_28 (\u001b[38;5;33mMaxPooling2D\u001b[0m) │ (\u001b[38;5;45mNone\u001b[0m, \u001b[38;5;34m63\u001b[0m, \u001b[38;5;34m63\u001b[0m, \u001b[38;5;34m32\u001b[0m)     │             \u001b[38;5;34m0\u001b[0m │\n",
       "├─────────────────────────────────┼────────────────────────┼───────────────┤\n",
       "│ conv2d_45 (\u001b[38;5;33mConv2D\u001b[0m)              │ (\u001b[38;5;45mNone\u001b[0m, \u001b[38;5;34m63\u001b[0m, \u001b[38;5;34m63\u001b[0m, \u001b[38;5;34m32\u001b[0m)     │         \u001b[38;5;34m9,248\u001b[0m │\n",
       "├─────────────────────────────────┼────────────────────────┼───────────────┤\n",
       "│ max_pooling2d_29 (\u001b[38;5;33mMaxPooling2D\u001b[0m) │ (\u001b[38;5;45mNone\u001b[0m, \u001b[38;5;34m31\u001b[0m, \u001b[38;5;34m31\u001b[0m, \u001b[38;5;34m32\u001b[0m)     │             \u001b[38;5;34m0\u001b[0m │\n",
       "├─────────────────────────────────┼────────────────────────┼───────────────┤\n",
       "│ conv2d_46 (\u001b[38;5;33mConv2D\u001b[0m)              │ (\u001b[38;5;45mNone\u001b[0m, \u001b[38;5;34m31\u001b[0m, \u001b[38;5;34m31\u001b[0m, \u001b[38;5;34m64\u001b[0m)     │        \u001b[38;5;34m18,496\u001b[0m │\n",
       "├─────────────────────────────────┼────────────────────────┼───────────────┤\n",
       "│ max_pooling2d_30 (\u001b[38;5;33mMaxPooling2D\u001b[0m) │ (\u001b[38;5;45mNone\u001b[0m, \u001b[38;5;34m15\u001b[0m, \u001b[38;5;34m15\u001b[0m, \u001b[38;5;34m64\u001b[0m)     │             \u001b[38;5;34m0\u001b[0m │\n",
       "├─────────────────────────────────┼────────────────────────┼───────────────┤\n",
       "│ conv2d_47 (\u001b[38;5;33mConv2D\u001b[0m)              │ (\u001b[38;5;45mNone\u001b[0m, \u001b[38;5;34m15\u001b[0m, \u001b[38;5;34m15\u001b[0m, \u001b[38;5;34m128\u001b[0m)    │        \u001b[38;5;34m73,856\u001b[0m │\n",
       "├─────────────────────────────────┼────────────────────────┼───────────────┤\n",
       "│ max_pooling2d_31 (\u001b[38;5;33mMaxPooling2D\u001b[0m) │ (\u001b[38;5;45mNone\u001b[0m, \u001b[38;5;34m7\u001b[0m, \u001b[38;5;34m7\u001b[0m, \u001b[38;5;34m128\u001b[0m)      │             \u001b[38;5;34m0\u001b[0m │\n",
       "├─────────────────────────────────┼────────────────────────┼───────────────┤\n",
       "│ conv2d_48 (\u001b[38;5;33mConv2D\u001b[0m)              │ (\u001b[38;5;45mNone\u001b[0m, \u001b[38;5;34m7\u001b[0m, \u001b[38;5;34m7\u001b[0m, \u001b[38;5;34m256\u001b[0m)      │       \u001b[38;5;34m295,168\u001b[0m │\n",
       "├─────────────────────────────────┼────────────────────────┼───────────────┤\n",
       "│ max_pooling2d_32 (\u001b[38;5;33mMaxPooling2D\u001b[0m) │ (\u001b[38;5;45mNone\u001b[0m, \u001b[38;5;34m3\u001b[0m, \u001b[38;5;34m3\u001b[0m, \u001b[38;5;34m256\u001b[0m)      │             \u001b[38;5;34m0\u001b[0m │\n",
       "├─────────────────────────────────┼────────────────────────┼───────────────┤\n",
       "│ conv2d_49 (\u001b[38;5;33mConv2D\u001b[0m)              │ (\u001b[38;5;45mNone\u001b[0m, \u001b[38;5;34m3\u001b[0m, \u001b[38;5;34m3\u001b[0m, \u001b[38;5;34m512\u001b[0m)      │     \u001b[38;5;34m1,180,160\u001b[0m │\n",
       "├─────────────────────────────────┼────────────────────────┼───────────────┤\n",
       "│ max_pooling2d_33 (\u001b[38;5;33mMaxPooling2D\u001b[0m) │ (\u001b[38;5;45mNone\u001b[0m, \u001b[38;5;34m1\u001b[0m, \u001b[38;5;34m1\u001b[0m, \u001b[38;5;34m512\u001b[0m)      │             \u001b[38;5;34m0\u001b[0m │\n",
       "├─────────────────────────────────┼────────────────────────┼───────────────┤\n",
       "│ conv2d_50 (\u001b[38;5;33mConv2D\u001b[0m)              │ (\u001b[38;5;45mNone\u001b[0m, \u001b[38;5;34m1\u001b[0m, \u001b[38;5;34m1\u001b[0m, \u001b[38;5;34m1024\u001b[0m)     │     \u001b[38;5;34m4,719,616\u001b[0m │\n",
       "├─────────────────────────────────┼────────────────────────┼───────────────┤\n",
       "│ dropout_8 (\u001b[38;5;33mDropout\u001b[0m)             │ (\u001b[38;5;45mNone\u001b[0m, \u001b[38;5;34m1\u001b[0m, \u001b[38;5;34m1\u001b[0m, \u001b[38;5;34m1024\u001b[0m)     │             \u001b[38;5;34m0\u001b[0m │\n",
       "├─────────────────────────────────┼────────────────────────┼───────────────┤\n",
       "│ flatten_4 (\u001b[38;5;33mFlatten\u001b[0m)             │ (\u001b[38;5;45mNone\u001b[0m, \u001b[38;5;34m1024\u001b[0m)           │             \u001b[38;5;34m0\u001b[0m │\n",
       "├─────────────────────────────────┼────────────────────────┼───────────────┤\n",
       "│ dense_8 (\u001b[38;5;33mDense\u001b[0m)                 │ (\u001b[38;5;45mNone\u001b[0m, \u001b[38;5;34m2500\u001b[0m)           │     \u001b[38;5;34m2,562,500\u001b[0m │\n",
       "├─────────────────────────────────┼────────────────────────┼───────────────┤\n",
       "│ dropout_9 (\u001b[38;5;33mDropout\u001b[0m)             │ (\u001b[38;5;45mNone\u001b[0m, \u001b[38;5;34m2500\u001b[0m)           │             \u001b[38;5;34m0\u001b[0m │\n",
       "├─────────────────────────────────┼────────────────────────┼───────────────┤\n",
       "│ dense_9 (\u001b[38;5;33mDense\u001b[0m)                 │ (\u001b[38;5;45mNone\u001b[0m, \u001b[38;5;34m54\u001b[0m)             │       \u001b[38;5;34m135,054\u001b[0m │\n",
       "└─────────────────────────────────┴────────────────────────┴───────────────┘\n"
      ]
     },
     "metadata": {},
     "output_type": "display_data"
    },
    {
     "data": {
      "text/html": [
       "<pre style=\"white-space:pre;overflow-x:auto;line-height:normal;font-family:Menlo,'DejaVu Sans Mono',consolas,'Courier New',monospace\"><span style=\"font-weight: bold\"> Total params: </span><span style=\"color: #00af00; text-decoration-color: #00af00\">9,004,242</span> (34.35 MB)\n",
       "</pre>\n"
      ],
      "text/plain": [
       "\u001b[1m Total params: \u001b[0m\u001b[38;5;34m9,004,242\u001b[0m (34.35 MB)\n"
      ]
     },
     "metadata": {},
     "output_type": "display_data"
    },
    {
     "data": {
      "text/html": [
       "<pre style=\"white-space:pre;overflow-x:auto;line-height:normal;font-family:Menlo,'DejaVu Sans Mono',consolas,'Courier New',monospace\"><span style=\"font-weight: bold\"> Trainable params: </span><span style=\"color: #00af00; text-decoration-color: #00af00\">9,004,242</span> (34.35 MB)\n",
       "</pre>\n"
      ],
      "text/plain": [
       "\u001b[1m Trainable params: \u001b[0m\u001b[38;5;34m9,004,242\u001b[0m (34.35 MB)\n"
      ]
     },
     "metadata": {},
     "output_type": "display_data"
    },
    {
     "data": {
      "text/html": [
       "<pre style=\"white-space:pre;overflow-x:auto;line-height:normal;font-family:Menlo,'DejaVu Sans Mono',consolas,'Courier New',monospace\"><span style=\"font-weight: bold\"> Non-trainable params: </span><span style=\"color: #00af00; text-decoration-color: #00af00\">0</span> (0.00 B)\n",
       "</pre>\n"
      ],
      "text/plain": [
       "\u001b[1m Non-trainable params: \u001b[0m\u001b[38;5;34m0\u001b[0m (0.00 B)\n"
      ]
     },
     "metadata": {},
     "output_type": "display_data"
    }
   ],
   "source": [
    "model.summary()"
   ]
  },
  {
   "cell_type": "markdown",
   "id": "87adbbe3",
   "metadata": {},
   "source": [
    "## Model Training"
   ]
  },
  {
   "cell_type": "code",
   "execution_count": 117,
   "id": "c0556213",
   "metadata": {},
   "outputs": [
    {
     "name": "stdout",
     "output_type": "stream",
     "text": [
      "Epoch 1/10\n",
      "\u001b[1m2872/2872\u001b[0m \u001b[32m━━━━━━━━━━━━━━━━━━━━\u001b[0m\u001b[37m\u001b[0m \u001b[1m2176s\u001b[0m 756ms/step - accuracy: 0.4387 - loss: 2.0634 - val_accuracy: 0.8598 - val_loss: 0.4392\n",
      "Epoch 2/10\n",
      "\u001b[1m2872/2872\u001b[0m \u001b[32m━━━━━━━━━━━━━━━━━━━━\u001b[0m\u001b[37m\u001b[0m \u001b[1m2215s\u001b[0m 771ms/step - accuracy: 0.8327 - loss: 0.5201 - val_accuracy: 0.9098 - val_loss: 0.2670\n",
      "Epoch 3/10\n",
      "\u001b[1m2872/2872\u001b[0m \u001b[32m━━━━━━━━━━━━━━━━━━━━\u001b[0m\u001b[37m\u001b[0m \u001b[1m2268s\u001b[0m 790ms/step - accuracy: 0.8922 - loss: 0.3262 - val_accuracy: 0.9428 - val_loss: 0.1714\n",
      "Epoch 4/10\n",
      "\u001b[1m2872/2872\u001b[0m \u001b[32m━━━━━━━━━━━━━━━━━━━━\u001b[0m\u001b[37m\u001b[0m \u001b[1m2558s\u001b[0m 891ms/step - accuracy: 0.9186 - loss: 0.2392 - val_accuracy: 0.9396 - val_loss: 0.1704\n",
      "Epoch 5/10\n",
      "\u001b[1m2872/2872\u001b[0m \u001b[32m━━━━━━━━━━━━━━━━━━━━\u001b[0m\u001b[37m\u001b[0m \u001b[1m2350s\u001b[0m 818ms/step - accuracy: 0.9364 - loss: 0.1851 - val_accuracy: 0.9517 - val_loss: 0.1327\n",
      "Epoch 6/10\n",
      "\u001b[1m2872/2872\u001b[0m \u001b[32m━━━━━━━━━━━━━━━━━━━━\u001b[0m\u001b[37m\u001b[0m \u001b[1m2236s\u001b[0m 779ms/step - accuracy: 0.9478 - loss: 0.1478 - val_accuracy: 0.9697 - val_loss: 0.0835\n",
      "Epoch 7/10\n",
      "\u001b[1m2872/2872\u001b[0m \u001b[32m━━━━━━━━━━━━━━━━━━━━\u001b[0m\u001b[37m\u001b[0m \u001b[1m2151s\u001b[0m 749ms/step - accuracy: 0.9567 - loss: 0.1207 - val_accuracy: 0.9716 - val_loss: 0.0780\n",
      "Epoch 8/10\n",
      "\u001b[1m2872/2872\u001b[0m \u001b[32m━━━━━━━━━━━━━━━━━━━━\u001b[0m\u001b[37m\u001b[0m \u001b[1m2858s\u001b[0m 995ms/step - accuracy: 0.9617 - loss: 0.1110 - val_accuracy: 0.9737 - val_loss: 0.0727\n",
      "Epoch 9/10\n",
      "\u001b[1m2872/2872\u001b[0m \u001b[32m━━━━━━━━━━━━━━━━━━━━\u001b[0m\u001b[37m\u001b[0m \u001b[1m2576s\u001b[0m 897ms/step - accuracy: 0.9674 - loss: 0.0936 - val_accuracy: 0.9777 - val_loss: 0.0620\n",
      "Epoch 10/10\n",
      "\u001b[1m2872/2872\u001b[0m \u001b[32m━━━━━━━━━━━━━━━━━━━━\u001b[0m\u001b[37m\u001b[0m \u001b[1m2101s\u001b[0m 732ms/step - accuracy: 0.9693 - loss: 0.0867 - val_accuracy: 0.9759 - val_loss: 0.0675\n"
     ]
    }
   ],
   "source": [
    "training_history = model.fit(x=training_set,validation_data=validation_set,epochs=10)"
   ]
  },
  {
   "cell_type": "markdown",
   "id": "bb90b851",
   "metadata": {},
   "source": [
    "## Model Evaluadation"
   ]
  },
  {
   "cell_type": "code",
   "execution_count": 137,
   "id": "a49d3863",
   "metadata": {},
   "outputs": [
    {
     "name": "stdout",
     "output_type": "stream",
     "text": [
      "\u001b[1m2872/2872\u001b[0m \u001b[32m━━━━━━━━━━━━━━━━━━━━\u001b[0m\u001b[37m\u001b[0m \u001b[1m290s\u001b[0m 101ms/step - accuracy: 0.9727 - loss: 0.0753\n"
     ]
    }
   ],
   "source": [
    "#Model Evaluation on Training set\n",
    "train_loss,train_acc = model.evaluate(training_set)"
   ]
  },
  {
   "cell_type": "code",
   "execution_count": 138,
   "id": "6003dfc4",
   "metadata": {},
   "outputs": [
    {
     "name": "stdout",
     "output_type": "stream",
     "text": [
      "0.06747138500213623 0.9758720397949219\n"
     ]
    }
   ],
   "source": [
    "print(train_loss,train_acc)"
   ]
  },
  {
   "cell_type": "code",
   "execution_count": null,
   "id": "014dd084",
   "metadata": {},
   "outputs": [
    {
     "name": "stdout",
     "output_type": "stream",
     "text": [
      "\u001b[1m1741/2872\u001b[0m \u001b[32m━━━━━━━━━━━━\u001b[0m\u001b[37m━━━━━━━━\u001b[0m \u001b[1m1:56\u001b[0m 103ms/step - accuracy: 0.9759 - loss: 0.0650"
     ]
    }
   ],
   "source": [
    "#Model on validation set\n",
    "val_loss,val_acc = model.evaluate(validation_set)"
   ]
  },
  {
   "cell_type": "code",
   "execution_count": 121,
   "id": "34bdabac",
   "metadata": {},
   "outputs": [
    {
     "name": "stdout",
     "output_type": "stream",
     "text": [
      "0.06747136265039444 0.9758720397949219\n"
     ]
    }
   ],
   "source": [
    "print(val_loss,val_acc)"
   ]
  },
  {
   "cell_type": "markdown",
   "id": "487c19ed",
   "metadata": {},
   "source": [
    "## Saving Model"
   ]
  },
  {
   "cell_type": "code",
   "execution_count": 122,
   "id": "c6a7139e",
   "metadata": {},
   "outputs": [],
   "source": [
    "model.save(\"trained_model.keras\")"
   ]
  },
  {
   "cell_type": "code",
   "execution_count": 123,
   "id": "72cfc5f4",
   "metadata": {},
   "outputs": [
    {
     "data": {
      "text/plain": [
       "{'accuracy': [0.6266311407089233,\n",
       "  0.8522610068321228,\n",
       "  0.9004407525062561,\n",
       "  0.9238613247871399,\n",
       "  0.9407629370689392,\n",
       "  0.9500462412834167,\n",
       "  0.9592098593711853,\n",
       "  0.9641290903091431,\n",
       "  0.969048261642456,\n",
       "  0.9714425802230835],\n",
       " 'loss': [1.280531406402588,\n",
       "  0.4563363492488861,\n",
       "  0.3002646267414093,\n",
       "  0.2237449288368225,\n",
       "  0.17293356359004974,\n",
       "  0.14030610024929047,\n",
       "  0.11481783539056778,\n",
       "  0.10333582013845444,\n",
       "  0.08887848258018494,\n",
       "  0.08205296844244003],\n",
       " 'val_accuracy': [0.8598465323448181,\n",
       "  0.9097567796707153,\n",
       "  0.9428307414054871,\n",
       "  0.9396310448646545,\n",
       "  0.9517113566398621,\n",
       "  0.9696577191352844,\n",
       "  0.9716493487358093,\n",
       "  0.9737389087677002,\n",
       "  0.9777330160140991,\n",
       "  0.9758720397949219],\n",
       " 'val_loss': [0.4392094314098358,\n",
       "  0.2670160233974457,\n",
       "  0.17144623398780823,\n",
       "  0.17039555311203003,\n",
       "  0.1327018290758133,\n",
       "  0.08353862911462784,\n",
       "  0.07799899578094482,\n",
       "  0.0726633071899414,\n",
       "  0.061976246535778046,\n",
       "  0.06747138500213623]}"
      ]
     },
     "execution_count": 123,
     "metadata": {},
     "output_type": "execute_result"
    }
   ],
   "source": [
    "training_history.history"
   ]
  },
  {
   "cell_type": "code",
   "execution_count": 124,
   "id": "5bcb9718",
   "metadata": {},
   "outputs": [],
   "source": [
    "#Recording History in json\n",
    "import json\n",
    "with open(\"training_hist.json\",\"w\") as f:\n",
    "    json.dump(training_history.history,f)"
   ]
  },
  {
   "cell_type": "markdown",
   "id": "e3b01c15",
   "metadata": {},
   "source": [
    "## Accuracy Visualization"
   ]
  },
  {
   "cell_type": "code",
   "execution_count": 125,
   "id": "cdcf9465",
   "metadata": {},
   "outputs": [
    {
     "data": {
      "image/png": "[encoded data removed]",
      "text/plain": [
       "<Figure size 640x480 with 1 Axes>"
      ]
     },
     "metadata": {},
     "output_type": "display_data"
    }
   ],
   "source": [
    "epochs = [i for i in range(1,11)]\n",
    "plt.plot(epochs,training_history.history['accuracy'], color='red',label='Training Accuracy')\n",
    "plt.plot(epochs,training_history.history['val_accuracy'], color='blue',label='Validation Accuracy')\n",
    "plt.xlabel(\"No. of Epochs\")\n",
    "plt.ylabel(\"Accuracy Result\")\n",
    "plt.title(\"Visualization of Accuracy Resilt\")\n",
    "plt.legend()\n",
    "plt.show()"
   ]
  },
  {
   "cell_type": "markdown",
   "id": "c4874dd0",
   "metadata": {},
   "source": [
    "### Some  other metrics for model evaluation "
   ]
  },
  {
   "cell_type": "code",
   "execution_count": 126,
   "id": "8fa08609",
   "metadata": {},
   "outputs": [
    {
     "data": {
      "text/plain": [
       "['Apple___Apple_scab',\n",
       " 'Apple___Black_rot',\n",
       " 'Apple___Cedar_apple_rust',\n",
       " 'Apple___healthy',\n",
       " 'Bean___angular_leaf_spot',\n",
       " 'Bean___rust',\n",
       " 'Beans___healthy',\n",
       " 'Blueberry___healthy',\n",
       " 'Cherry_(including_sour)___Powdery_mildew',\n",
       " 'Cherry_(including_sour)___healthy',\n",
       " 'Corn___Common_Rust',\n",
       " 'Corn___Gray_Leaf_Spot',\n",
       " 'Corn___Healthy',\n",
       " 'Corn___Leaf_Blight',\n",
       " 'Grape___Black_rot',\n",
       " 'Grape___Esca_(Black_Measles)',\n",
       " 'Grape___Leaf_blight_(Isariopsis_Leaf_Spot)',\n",
       " 'Grape___healthy',\n",
       " 'Invalid',\n",
       " 'Orange___Haunglongbing_(Citrus_greening)',\n",
       " 'Peach___Bacterial_spot',\n",
       " 'Peach___healthy',\n",
       " 'Pepper,_bell___Bacterial_spot',\n",
       " 'Pepper,_bell___healthy',\n",
       " 'Potato___Early_Blight',\n",
       " 'Potato___Healthy',\n",
       " 'Potato___Late_Blight',\n",
       " 'Raspberry___healthy',\n",
       " 'Rice___Brown_Spot',\n",
       " 'Rice___Healthy',\n",
       " 'Rice___Hispa',\n",
       " 'Rice___Leaf_Blast',\n",
       " 'Soybean___healthy',\n",
       " 'Squash___Powdery_mildew',\n",
       " 'Strawberry___Leaf_scorch',\n",
       " 'Strawberry___healthy',\n",
       " 'Sugarcane___Healthy',\n",
       " 'Sugarcane___Mosaic',\n",
       " 'Sugarcane___RedRot',\n",
       " 'Sugarcane___Rust',\n",
       " 'Sugarcane___Yellow',\n",
       " 'Tomato___Bacterial_spot',\n",
       " 'Tomato___Early_blight',\n",
       " 'Tomato___Late_blight',\n",
       " 'Tomato___Leaf_Mold',\n",
       " 'Tomato___Septoria_leaf_spot',\n",
       " 'Tomato___Spider_mites Two-spotted_spider_mite',\n",
       " 'Tomato___Target_Spot',\n",
       " 'Tomato___Tomato_Yellow_Leaf_Curl_Virus',\n",
       " 'Tomato___Tomato_mosaic_virus',\n",
       " 'Tomato___healthy',\n",
       " 'Wheat___Brown_Rust',\n",
       " 'Wheat___Healthy',\n",
       " 'Wheat___Yellow_Rust']"
      ]
     },
     "execution_count": 126,
     "metadata": {},
     "output_type": "execute_result"
    }
   ],
   "source": [
    "class_name = validation_set.class_names\n",
    "class_name"
   ]
  },
  {
   "cell_type": "code",
   "execution_count": 127,
   "id": "6dd71250",
   "metadata": {},
   "outputs": [
    {
     "name": "stdout",
     "output_type": "stream",
     "text": [
      "Found 91885 files belonging to 54 classes.\n"
     ]
    }
   ],
   "source": [
    "test_set = tf.keras.utils.image_dataset_from_directory(\n",
    "'valid',\n",
    "labels=\"inferred\",\n",
    "label_mode=\"categorical\",\n",
    "class_names=None,\n",
    "color_mode=\"rgb\",\n",
    "batch_size=32,\n",
    "image_size=(128, 128),\n",
    "shuffle=False,\n",
    "seed=None,\n",
    "validation_split=None,\n",
    "subset=None,\n",
    "interpolation=\"bilinear\",\n",
    "follow_links=False,\n",
    "crop_to_aspect_ratio=False,\n",
    ")"
   ]
  },
  {
   "cell_type": "code",
   "execution_count": 128,
   "id": "52baf095",
   "metadata": {},
   "outputs": [
    {
     "name": "stdout",
     "output_type": "stream",
     "text": [
      "\u001b[1m2872/2872\u001b[0m \u001b[32m━━━━━━━━━━━━━━━━━━━━\u001b[0m\u001b[37m\u001b[0m \u001b[1m289s\u001b[0m 101ms/step\n"
     ]
    },
    {
     "data": {
      "text/plain": [
       "(array([[9.9650049e-01, 1.0508997e-07, 6.8693296e-08, ..., 5.9996754e-09,\n",
       "         1.3737120e-07, 5.7115157e-09],\n",
       "        [1.0000000e+00, 1.8846792e-13, 1.6223386e-13, ..., 4.4345460e-16,\n",
       "         2.2495520e-13, 1.5137710e-16],\n",
       "        [1.0000000e+00, 6.5261945e-15, 1.3975434e-13, ..., 1.7406047e-17,\n",
       "         3.8553751e-15, 2.8251171e-18],\n",
       "        ...,\n",
       "        [2.1079030e-07, 5.2263643e-10, 1.5644918e-08, ..., 5.6342039e-02,\n",
       "         2.3291796e-04, 8.9989752e-01],\n",
       "        [6.7783380e-06, 2.2716488e-07, 1.3557593e-06, ..., 5.7396874e-02,\n",
       "         4.5251781e-03, 8.3660173e-01],\n",
       "        [3.3989225e-11, 1.1835509e-11, 4.0398403e-11, ..., 4.1023845e-06,\n",
       "         1.2687046e-05, 9.9997997e-01]], dtype=float32),\n",
       " (91885, 54))"
      ]
     },
     "execution_count": 128,
     "metadata": {},
     "output_type": "execute_result"
    }
   ],
   "source": [
    "y_pred = model.predict(test_set)\n",
    "y_pred,y_pred.shape"
   ]
  },
  {
   "cell_type": "code",
   "execution_count": 129,
   "id": "3cefb175",
   "metadata": {},
   "outputs": [],
   "source": [
    "predicted_categories = tf.argmax(y_pred,axis=1)"
   ]
  },
  {
   "cell_type": "code",
   "execution_count": 130,
   "id": "2dff0174",
   "metadata": {},
   "outputs": [
    {
     "data": {
      "text/plain": [
       "<tf.Tensor: shape=(91885,), dtype=int64, numpy=array([ 0,  0,  0, ..., 53, 53, 53], dtype=int64)>"
      ]
     },
     "execution_count": 130,
     "metadata": {},
     "output_type": "execute_result"
    }
   ],
   "source": [
    "predicted_categories "
   ]
  },
  {
   "cell_type": "code",
   "execution_count": 131,
   "id": "784bedc9",
   "metadata": {},
   "outputs": [
    {
     "data": {
      "text/plain": [
       "<tf.Tensor: shape=(91885, 54), dtype=float32, numpy=\n",
       "array([[1., 0., 0., ..., 0., 0., 0.],\n",
       "       [1., 0., 0., ..., 0., 0., 0.],\n",
       "       [1., 0., 0., ..., 0., 0., 0.],\n",
       "       ...,\n",
       "       [0., 0., 0., ..., 0., 0., 1.],\n",
       "       [0., 0., 0., ..., 0., 0., 1.],\n",
       "       [0., 0., 0., ..., 0., 0., 1.]], dtype=float32)>"
      ]
     },
     "execution_count": 131,
     "metadata": {},
     "output_type": "execute_result"
    }
   ],
   "source": [
    "true_categories = tf.concat([y for x,y in test_set],axis=0)\n",
    "true_categories"
   ]
  },
  {
   "cell_type": "code",
   "execution_count": 132,
   "id": "4532d2b4",
   "metadata": {},
   "outputs": [
    {
     "data": {
      "text/plain": [
       "<tf.Tensor: shape=(91885,), dtype=int64, numpy=array([ 0,  0,  0, ..., 53, 53, 53], dtype=int64)>"
      ]
     },
     "execution_count": 132,
     "metadata": {},
     "output_type": "execute_result"
    }
   ],
   "source": [
    "Y_true = tf.argmax(true_categories,axis=1)\n",
    "Y_true"
   ]
  },
  {
   "cell_type": "code",
   "execution_count": 133,
   "id": "3ba50bcb",
   "metadata": {},
   "outputs": [],
   "source": [
    "from sklearn.metrics import classification_report,confusion_matrix"
   ]
  },
  {
   "cell_type": "code",
   "execution_count": 134,
   "id": "7aa0fa86",
   "metadata": {},
   "outputs": [
    {
     "name": "stdout",
     "output_type": "stream",
     "text": [
      "                                               precision    recall  f1-score   support\n",
      "\n",
      "                           Apple___Apple_scab       0.99      0.99      0.99      2016\n",
      "                            Apple___Black_rot       1.00      0.99      0.99      1987\n",
      "                     Apple___Cedar_apple_rust       0.99      0.97      0.98      1760\n",
      "                              Apple___healthy       0.95      1.00      0.97      2008\n",
      "                     Bean___angular_leaf_spot       0.84      0.97      0.90       345\n",
      "                                  Bean___rust       0.99      0.76      0.86       348\n",
      "                              Beans___healthy       0.90      1.00      0.95       341\n",
      "                          Blueberry___healthy       0.97      1.00      0.98      1816\n",
      "     Cherry_(including_sour)___Powdery_mildew       1.00      1.00      1.00      1683\n",
      "            Cherry_(including_sour)___healthy       1.00      0.99      1.00      1826\n",
      "                           Corn___Common_Rust       1.00      1.00      1.00      3814\n",
      "                        Corn___Gray_Leaf_Spot       0.99      1.00      1.00      3284\n",
      "                               Corn___Healthy       0.99      1.00      0.99      3718\n",
      "                           Corn___Leaf_Blight       1.00      1.00      1.00      3816\n",
      "                            Grape___Black_rot       1.00      0.96      0.98      1888\n",
      "                 Grape___Esca_(Black_Measles)       0.97      1.00      0.99      1920\n",
      "   Grape___Leaf_blight_(Isariopsis_Leaf_Spot)       0.99      1.00      0.99      1722\n",
      "                              Grape___healthy       1.00      1.00      1.00      1692\n",
      "                                      Invalid       0.95      0.99      0.97      1563\n",
      "     Orange___Haunglongbing_(Citrus_greening)       1.00      0.99      1.00      2010\n",
      "                       Peach___Bacterial_spot       1.00      0.99      0.99      1838\n",
      "                              Peach___healthy       1.00      0.98      0.99      1728\n",
      "                Pepper,_bell___Bacterial_spot       1.00      0.98      0.99      1913\n",
      "                       Pepper,_bell___healthy       0.99      0.98      0.98      1988\n",
      "                        Potato___Early_Blight       1.00      1.00      1.00      3149\n",
      "                             Potato___Healthy       0.99      0.99      0.99      2006\n",
      "                         Potato___Late_Blight       0.99      1.00      0.99      3131\n",
      "                          Raspberry___healthy       1.00      0.99      0.99      1781\n",
      "                            Rice___Brown_Spot       0.91      0.62      0.74       563\n",
      "                               Rice___Healthy       0.43      0.66      0.52       523\n",
      "                                 Rice___Hispa       0.54      0.73      0.62       523\n",
      "                            Rice___Leaf_Blast       0.95      0.70      0.80      1182\n",
      "                            Soybean___healthy       0.98      1.00      0.99      2022\n",
      "                      Squash___Powdery_mildew       0.98      1.00      0.99      1736\n",
      "                     Strawberry___Leaf_scorch       0.99      0.99      0.99      1774\n",
      "                         Strawberry___healthy       0.99      0.99      0.99      1824\n",
      "                          Sugarcane___Healthy       0.99      0.88      0.93       522\n",
      "                           Sugarcane___Mosaic       0.82      0.98      0.90       462\n",
      "                           Sugarcane___RedRot       0.98      0.98      0.98       518\n",
      "                             Sugarcane___Rust       0.99      0.92      0.95       514\n",
      "                           Sugarcane___Yellow       0.99      0.88      0.93       505\n",
      "                      Tomato___Bacterial_spot       1.00      0.95      0.98      1702\n",
      "                        Tomato___Early_blight       1.00      0.90      0.95      1920\n",
      "                         Tomato___Late_blight       0.98      0.98      0.98      1851\n",
      "                           Tomato___Leaf_Mold       0.97      1.00      0.98      1882\n",
      "                  Tomato___Septoria_leaf_spot       0.96      0.98      0.97      1745\n",
      "Tomato___Spider_mites Two-spotted_spider_mite       0.98      0.97      0.97      1741\n",
      "                         Tomato___Target_Spot       0.95      0.97      0.96      1827\n",
      "       Tomato___Tomato_Yellow_Leaf_Curl_Virus       0.98      1.00      0.99      1961\n",
      "                 Tomato___Tomato_mosaic_virus       0.99      0.99      0.99      1790\n",
      "                             Tomato___healthy       0.98      1.00      0.99      1926\n",
      "                           Wheat___Brown_Rust       0.99      0.93      0.96      1128\n",
      "                              Wheat___Healthy       0.98      1.00      0.99      1497\n",
      "                          Wheat___Yellow_Rust       0.99      0.98      0.99      1156\n",
      "\n",
      "                                     accuracy                           0.98     91885\n",
      "                                    macro avg       0.96      0.95      0.95     91885\n",
      "                                 weighted avg       0.98      0.98      0.98     91885\n",
      "\n"
     ]
    }
   ],
   "source": [
    "print(classification_report(Y_true,predicted_categories,target_names=class_name))"
   ]
  },
  {
   "cell_type": "code",
   "execution_count": 135,
   "id": "7f741966",
   "metadata": {},
   "outputs": [
    {
     "data": {
      "text/plain": [
       "(54, 54)"
      ]
     },
     "execution_count": 135,
     "metadata": {},
     "output_type": "execute_result"
    }
   ],
   "source": [
    "cm = confusion_matrix(Y_true,predicted_categories)\n",
    "cm.shape"
   ]
  },
  {
   "cell_type": "markdown",
   "id": "8cec99c1",
   "metadata": {},
   "source": [
    "### Confusion Matrix  Visualization"
   ]
  },
  {
   "cell_type": "code",
   "execution_count": 136,
   "id": "fa663be2",
   "metadata": {},
   "outputs": [
    {
     "data": {
      "text/plain": [
       "<function matplotlib.pyplot.show(close=None, block=None)>"
      ]
     },
     "execution_count": 136,
     "metadata": {},
     "output_type": "execute_result"
    },
    {
     "data": {
      "image/png": "[encoded data removed]",
      "text/plain": [
       "<Figure size 4000x4000 with 2 Axes>"
      ]
     },
     "metadata": {},
     "output_type": "display_data"
    }
   ],
   "source": [
    "plt.figure(figsize=(40,40))\n",
    "sns.heatmap(cm,annot=True,annot_kws={'size':10})\n",
    "plt.xlabel(\"Predicted class\",fontsize=20)\n",
    "plt.ylabel(\"Actual class\",fontsize=20)\n",
    "plt.title(\"Plant Disease Prediction Confusion Matrix\",fontsize=25)\n",
    "plt.show"
   ]
  },
  {
   "cell_type": "code",
   "execution_count": null,
   "id": "9caa3497",
   "metadata": {},
   "outputs": [],
   "source": []
  },
  {
   "cell_type": "code",
   "execution_count": null,
   "id": "afc5a75a",
   "metadata": {},
   "outputs": [],
   "source": []
  },
  {
   "cell_type": "code",
   "execution_count": null,
   "id": "97185110",
   "metadata": {},
   "outputs": [],
   "source": []
  },
  {
   "cell_type": "code",
   "execution_count": null,
   "id": "f1394864",
   "metadata": {},
   "outputs": [],
   "source": []
  },
  {
   "cell_type": "code",
   "execution_count": null,
   "id": "fbbbf561",
   "metadata": {},
   "outputs": [],
   "source": []
  },
  {
   "cell_type": "code",
   "execution_count": null,
   "id": "a7eacda2",
   "metadata": {},
   "outputs": [],
   "source": []
  },
  {
   "cell_type": "code",
   "execution_count": null,
   "id": "dbb9ef9b",
   "metadata": {},
   "outputs": [],
   "source": []
  }
 ],
 "metadata": {
  "kernelspec": {
   "display_name": "Python 3 (ipykernel)",
   "language": "python",
   "name": "python3"
  },
  "language_info": {
   "codemirror_mode": {
    "name": "ipython",
    "version": 3
   },
   "file_extension": ".py",
   "mimetype": "text/x-python",
   "name": "python",
   "nbconvert_exporter": "python",
   "pygments_lexer": "ipython3",
   "version": "3.12.4"
  }
 },
 "nbformat": 4,
 "nbformat_minor": 5
}
